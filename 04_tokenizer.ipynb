{
 "cells": [
  {
   "cell_type": "markdown",
   "id": "1eb9c5a7-60a4-4999-b576-157684c1f4a4",
   "metadata": {},
   "source": [
    "# Tokenizer"
   ]
  },
  {
   "cell_type": "markdown",
   "id": "2abf5eae-bfc7-49a9-82c8-3960e31d24be",
   "metadata": {},
   "source": [
    "## Loading via the class"
   ]
  },
  {
   "cell_type": "code",
   "execution_count": 2,
   "id": "9a4078a6-e666-4d4d-b976-2f2e4b209371",
   "metadata": {},
   "outputs": [
    {
     "data": {
      "application/vnd.jupyter.widget-view+json": {
       "model_id": "ccaf79defc6347aab6b3cf3fdfce931b",
       "version_major": 2,
       "version_minor": 0
      },
      "text/plain": [
       "Downloading:   0%|          | 0.00/29.0 [00:00<?, ?B/s]"
      ]
     },
     "metadata": {},
     "output_type": "display_data"
    },
    {
     "data": {
      "application/vnd.jupyter.widget-view+json": {
       "model_id": "5ab0029f52f9428fbb6e2b003aa35feb",
       "version_major": 2,
       "version_minor": 0
      },
      "text/plain": [
       "Downloading:   0%|          | 0.00/208k [00:00<?, ?B/s]"
      ]
     },
     "metadata": {},
     "output_type": "display_data"
    },
    {
     "data": {
      "application/vnd.jupyter.widget-view+json": {
       "model_id": "99f50dc918de40b0a1b597d69138e492",
       "version_major": 2,
       "version_minor": 0
      },
      "text/plain": [
       "Downloading:   0%|          | 0.00/426k [00:00<?, ?B/s]"
      ]
     },
     "metadata": {},
     "output_type": "display_data"
    }
   ],
   "source": [
    "from transformers import BertTokenizer\n",
    "tokenizer = BertTokenizer.from_pretrained(\"bert-base-cased\")"
   ]
  },
  {
   "cell_type": "markdown",
   "id": "59a2ea6d-62af-4f3a-a473-9e1de3b2c3e2",
   "metadata": {},
   "source": [
    "## Loading via AutoTokenizer"
   ]
  },
  {
   "cell_type": "code",
   "execution_count": 4,
   "id": "8e657e23-6503-4b14-ad3c-ffb06e5f2102",
   "metadata": {},
   "outputs": [],
   "source": [
    "from transformers import AutoTokenizer\n",
    "tokenizer = AutoTokenizer.from_pretrained(\"bert-base-cased\")"
   ]
  },
  {
   "cell_type": "markdown",
   "id": "ac003f93-e10b-4b34-94c0-a007bb6718e9",
   "metadata": {},
   "source": [
    "## Using a tokenizer"
   ]
  },
  {
   "cell_type": "code",
   "execution_count": 5,
   "id": "85a3abe5-e9d0-481e-87ea-46f9eeed2028",
   "metadata": {},
   "outputs": [
    {
     "data": {
      "text/plain": [
       "{'input_ids': [101, 7993, 170, 13809, 23763, 2443, 1110, 3014, 102], 'token_type_ids': [0, 0, 0, 0, 0, 0, 0, 0, 0], 'attention_mask': [1, 1, 1, 1, 1, 1, 1, 1, 1]}"
      ]
     },
     "execution_count": 5,
     "metadata": {},
     "output_type": "execute_result"
    }
   ],
   "source": [
    "tokenizer(\"Using a Transformer network is simple\")"
   ]
  },
  {
   "cell_type": "markdown",
   "id": "5cdca494-13b1-4ffd-a454-7261202e2af1",
   "metadata": {},
   "source": [
    "## Saving a tokenizer"
   ]
  },
  {
   "cell_type": "code",
   "execution_count": 9,
   "id": "9b7d0bf2-b8af-4d9d-8014-019d1e21f262",
   "metadata": {},
   "outputs": [
    {
     "data": {
      "text/plain": [
       "('./output/tokenizer_config.json',\n",
       " './output/special_tokens_map.json',\n",
       " './output/vocab.txt',\n",
       " './output/added_tokens.json',\n",
       " './output/tokenizer.json')"
      ]
     },
     "execution_count": 9,
     "metadata": {},
     "output_type": "execute_result"
    }
   ],
   "source": [
    "\n",
    "tokenizer.save_pretrained(\"./output\")"
   ]
  },
  {
   "cell_type": "markdown",
   "id": "afba4f3a-32bc-4da8-b626-006ce53b3f9a",
   "metadata": {},
   "source": [
    "## Pipleine "
   ]
  },
  {
   "cell_type": "markdown",
   "id": "3a9f3154-fafd-436d-9355-d8684ff2a8c3",
   "metadata": {},
   "source": [
    "### Encoding"
   ]
  },
  {
   "cell_type": "code",
   "execution_count": 10,
   "id": "2b1c0d9b-feca-4599-a5af-25c50d2c2cf4",
   "metadata": {},
   "outputs": [
    {
     "data": {
      "text/plain": [
       "['Let', \"'\", 's', 'try', 'to', 'token', '##ize', 'this', '.']"
      ]
     },
     "execution_count": 10,
     "metadata": {},
     "output_type": "execute_result"
    }
   ],
   "source": [
    "tokenizer.tokenize(\"Let's try to tokenize this.\")"
   ]
  },
  {
   "cell_type": "markdown",
   "id": "bf413d56-43fa-43f9-b9f3-71fa969fde06",
   "metadata": {},
   "source": [
    "The `##` here used to specify that this is not the begining of a word. "
   ]
  },
  {
   "cell_type": "code",
   "execution_count": 11,
   "id": "7543c851-6443-4acc-8a11-65cc44c96dae",
   "metadata": {},
   "outputs": [
    {
     "data": {
      "application/vnd.jupyter.widget-view+json": {
       "model_id": "2b5505dbddbd4ef3ab02d19eccf3b41c",
       "version_major": 2,
       "version_minor": 0
      },
      "text/plain": [
       "Downloading:   0%|          | 0.00/684 [00:00<?, ?B/s]"
      ]
     },
     "metadata": {},
     "output_type": "display_data"
    },
    {
     "data": {
      "application/vnd.jupyter.widget-view+json": {
       "model_id": "aec0f8c8bf4144e7a536c8cea17d9f4d",
       "version_major": 2,
       "version_minor": 0
      },
      "text/plain": [
       "Downloading:   0%|          | 0.00/742k [00:00<?, ?B/s]"
      ]
     },
     "metadata": {},
     "output_type": "display_data"
    },
    {
     "data": {
      "application/vnd.jupyter.widget-view+json": {
       "model_id": "666eb370a4f04108a4438acf21e167db",
       "version_major": 2,
       "version_minor": 0
      },
      "text/plain": [
       "Downloading:   0%|          | 0.00/1.25M [00:00<?, ?B/s]"
      ]
     },
     "metadata": {},
     "output_type": "display_data"
    }
   ],
   "source": [
    "from transformers import AutoTokenizer\n",
    "tokenizer = AutoTokenizer.from_pretrained(\"albert-base-v1\")"
   ]
  },
  {
   "cell_type": "code",
   "execution_count": 18,
   "id": "25234613-38b8-4779-9953-ed2f13f80dae",
   "metadata": {},
   "outputs": [
    {
     "data": {
      "text/plain": [
       "['Let', \"'\", 's', 'try', 'to', 'token', '##ize', 'this', '.']"
      ]
     },
     "execution_count": 18,
     "metadata": {},
     "output_type": "execute_result"
    }
   ],
   "source": [
    "#Similarly the Albert based sentence tokenizer adds a `__` in front of all tokens that have a space before them \n",
    "tokenizer.tokenize(\"Let's try to tokenize this.\")"
   ]
  },
  {
   "cell_type": "code",
   "execution_count": 14,
   "id": "26af2bb0-9a2c-4c17-8492-f3d12d3d6d63",
   "metadata": {},
   "outputs": [
    {
     "data": {
      "text/plain": [
       "{'input_ids': [101, 2421, 112, 188, 2222, 1106, 22559, 3708, 1142, 119, 102], 'token_type_ids': [0, 0, 0, 0, 0, 0, 0, 0, 0, 0, 0], 'attention_mask': [1, 1, 1, 1, 1, 1, 1, 1, 1, 1, 1]}"
      ]
     },
     "execution_count": 14,
     "metadata": {},
     "output_type": "execute_result"
    }
   ],
   "source": [
    "from transformers import AutoTokenizer\n",
    "tokenizer = AutoTokenizer.from_pretrained(\"bert-base-cased\")\n",
    "tokenizer(\"Let's try to tokenize this.\")"
   ]
  },
  {
   "cell_type": "code",
   "execution_count": 16,
   "id": "59ebabdd-0f5f-488c-97f4-e3a5642ffcb3",
   "metadata": {},
   "outputs": [
    {
     "name": "stdout",
     "output_type": "stream",
     "text": [
      "[2421, 112, 188, 2222, 1106, 22559, 3708, 1142, 119]\n"
     ]
    }
   ],
   "source": [
    "#mapping tokens to input ids\n",
    "tokens = tokenizer.tokenize(\"Let's try to tokenize this.\")\n",
    "ids = tokenizer.convert_tokens_to_ids(tokens)\n",
    "print(ids)"
   ]
  },
  {
   "cell_type": "markdown",
   "id": "401a1792-4958-4396-bc96-57483e17424a",
   "metadata": {},
   "source": [
    "Notice the special ids - 101 and 102 "
   ]
  },
  {
   "cell_type": "markdown",
   "id": "34f2629b-ee07-4ccb-b5a4-59f8c907b387",
   "metadata": {},
   "source": [
    "### Decoding"
   ]
  },
  {
   "cell_type": "code",
   "execution_count": 17,
   "id": "3d15c187-e655-4622-adc1-2525362f9d8e",
   "metadata": {},
   "outputs": [
    {
     "name": "stdout",
     "output_type": "stream",
     "text": [
      "Let's try to tokenize this.\n"
     ]
    }
   ],
   "source": [
    "decoded_string = tokenizer.decode(ids)\n",
    "print(decoded_string)"
   ]
  }
 ],
 "metadata": {
  "kernelspec": {
   "display_name": "huggingface:Python",
   "language": "python",
   "name": "conda-env-huggingface-py"
  },
  "language_info": {
   "codemirror_mode": {
    "name": "ipython",
    "version": 3
   },
   "file_extension": ".py",
   "mimetype": "text/x-python",
   "name": "python",
   "nbconvert_exporter": "python",
   "pygments_lexer": "ipython3",
   "version": "3.9.9"
  }
 },
 "nbformat": 4,
 "nbformat_minor": 5
}
